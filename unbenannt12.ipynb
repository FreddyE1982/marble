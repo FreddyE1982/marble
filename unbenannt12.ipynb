# -*- coding: utf-8 -*-
"""
Created on Mon Feb 10 17:20:30 2025

@author: frede
"""

